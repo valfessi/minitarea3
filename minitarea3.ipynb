{
  "nbformat": 4,
  "nbformat_minor": 0,
  "metadata": {
    "colab": {
      "name": "minitarea3.ipynb",
      "version": "0.3.2",
      "provenance": [],
      "include_colab_link": true
    },
    "kernelspec": {
      "name": "python3",
      "display_name": "Python 3"
    }
  },
  "cells": [
    {
      "cell_type": "markdown",
      "metadata": {
        "id": "view-in-github",
        "colab_type": "text"
      },
      "source": [
        "<a href=\"https://colab.research.google.com/github/valfessi/minitarea3/blob/master/minitarea3.ipynb\" target=\"_parent\"><img src=\"https://colab.research.google.com/assets/colab-badge.svg\" alt=\"Open In Colab\"/></a>"
      ]
    },
    {
      "metadata": {
        "id": "h8QtpuGe3Xa6",
        "colab_type": "text"
      },
      "cell_type": "markdown",
      "source": [
        "# EI2001: Ciencia de Datos en Astronomía\n",
        "\n",
        "**Profesores:** Pía Cortés, Daniela Barrientos, Matías Suazo, Matías Mattamala\n",
        "\n",
        "## Minitarea 3: Uso de Atropy y Pandas con bases de datos.\n",
        "\n",
        "**Objetivos:**\n",
        "\n",
        "1. Abrir y graficar de forma clara un archivo FITS.\n",
        "2. Trabajar con Pandas para el manejo de una gran base de datos.\n",
        "3. Conocer sobre los exoplanetas que se han descubierto.\n",
        "\n",
        "\n",
        "**Instrucciones:**\n",
        "\n",
        "1. Lean cuidadosamente todo lo que viene ahora\n",
        "2. Para hacer esta tarea deben que hacer un **fork** del repositorio en sus cuentas de GitHub.\n",
        "4. Abrir [Google Colab](https://colab.research.google.com) y seleccionar \"abrir un archivo desde GitHub\". Deben seleccionar su cuenta Github y escoger el repositorio que corresponde al fork que hicieron.\n",
        "5. Si todo sale bien, debería abrirse una copia de este notebook en su cuenta de Google Colab.\n",
        "6. Se adjuntan 6 mini actividades a completar. **TODAS** son necesarias y deben completar lo que se va pidiendo.\n",
        "7. Cada vez que completen un ítem, deben guardar un avance en su fork de GitHub, de modo de **respaldar cada avance significativo**. Usen comentarios coherentes con cada respaldo \"Sección 1 completa\", \"Tarea terminada\", no solamente el que pone por defecto.\n"
      ]
    },
    {
      "metadata": {
        "id": "HhrXa6gCvMrY",
        "colab_type": "text"
      },
      "cell_type": "markdown",
      "source": [
        "##Astropy y FITS"
      ]
    },
    {
      "metadata": {
        "id": "Z_xWmWr0OeKG",
        "colab_type": "text"
      },
      "cell_type": "markdown",
      "source": [
        "##1. Abrir un FITS con Astropy y sacar información de su header\n",
        "\n",
        "La primera parte de esta minitarea consiste en descargar un nuevo archivo `FITS` desconocido. Usando lo que aprendimos en clases, debemos sacar información importante de su header.\n",
        "\n",
        "Para comenzar, debes descargar el archivo `FITS`  dado y luego, abrirlo usando el módulo `fits` de  `Astropy` para guardalo en una variable llamada hdu:"
      ]
    },
    {
      "metadata": {
        "id": "lJ17nBAUbHQ_",
        "colab_type": "code",
        "colab": {}
      },
      "cell_type": "code",
      "source": [
        "import matplotlib.pyplot as plt\n",
        "from astropy.io import fits \n",
        "from astropy.utils.data import download_file\n",
        "import numpy as np\n",
        "\n",
        "archivo = download_file(\"https://github.com/astrodatos/Clase3/raw/master/lsc1m005-kb69-20160621-0111-e91.fits.fz\", cache=True )\n",
        "hdu = fits.open(archivo)"
      ],
      "execution_count": 0,
      "outputs": []
    },
    {
      "metadata": {
        "id": "xygwOs2ishhZ",
        "colab_type": "text"
      },
      "cell_type": "markdown",
      "source": [
        "Como comentamos en clases, no existe un estandar universal sobre los header provenientes de distintos telescopios. **En este caso particular, la información del fit no vive en `hdu[0]`, sino que en `hdu[1]`.**"
      ]
    },
    {
      "metadata": {
        "id": "X1AzeChrs6cO",
        "colab_type": "code",
        "outputId": "711270d3-ad5b-4351-8e04-8371185cf28e",
        "colab": {
          "base_uri": "https://localhost:8080/",
          "height": 136
        }
      },
      "cell_type": "code",
      "source": [
        "print(hdu.info())"
      ],
      "execution_count": 6,
      "outputs": [
        {
          "output_type": "stream",
          "text": [
            "Filename: /root/.astropy/cache/download/py3/a01c803c4997037bcc23c9d47d4803ac\n",
            "No.    Name      Ver    Type      Cards   Dimensions   Format\n",
            "  0  PRIMARY       1 PrimaryHDU       8   ()      \n",
            "  1  SCI           1 CompImageHDU    264   (2028, 2028)   float32   \n",
            "  2  CAT           1 BinTableHDU     59   51R x 24C   [D, D, D, D, K, K, D, D, D, D, D, D, D, D, D, D, D, D, D, D, D, K, D, D]   \n",
            "  3  BPM           1 CompImageHDU     10   (2028, 2028)   uint8   \n",
            "None\n"
          ],
          "name": "stdout"
        }
      ]
    },
    {
      "metadata": {
        "id": "e3u28hJluIjo",
        "colab_type": "text"
      },
      "cell_type": "markdown",
      "source": [
        "Ahora, debes inspeccionar el header. Llámalo (sin un print, porque sale hacia el lado) para ver que forma tiene el diccionario: sus llaves (keys) y valores asignados. "
      ]
    },
    {
      "metadata": {
        "id": "qbb6yFqQuaov",
        "colab_type": "code",
        "outputId": "6968af90-e98b-458c-d4c0-0e3200337cc6",
        "colab": {
          "base_uri": "https://localhost:8080/",
          "height": 4505
        }
      },
      "cell_type": "code",
      "source": [
        "# Invocar el header\n",
        "header_data=hdu[1].header\n",
        "header_data"
      ],
      "execution_count": 7,
      "outputs": [
        {
          "output_type": "execute_result",
          "data": {
            "text/plain": [
              "SIMPLE  =                    T / conforms to FITS standard                      \n",
              "BITPIX  =                  -32 / array data type                                \n",
              "NAXIS   =                    2 / number of array dimensions                     \n",
              "NAXIS1  =                 2028 / width of table in bytes                        \n",
              "NAXIS2  =                 2028 / number of rows in table                        \n",
              "PCOUNT  =                    0 / size of special data area                      \n",
              "GCOUNT  =                    1 / one data group (required keyword)              \n",
              "XTENSION= 'BINTABLE'           / binary table extension                         \n",
              "EXTNAME = 'SCI     '                                                            \n",
              "DATADICV= 'LCOGT-DIC.FITS-0.11.0' / Version number of the data dictionary       \n",
              "HDRVER  = 'LCOGT-HDR-1.4.0'    / Version number of the headers                  \n",
              "ORIGIN  = 'LCOGT   '           / Organization responsible for the data          \n",
              "SITEID  = 'lsc     '           / ID code of the Observatory site                \n",
              "SITE    = 'LCOGT node at Cerro Tololo Inter-American Observatory' / Site of the \n",
              "ENCID   = 'doma    '           / ID code of the Enclosure                       \n",
              "ENCLOSUR= 'Dome-02 '           / Building containing Telescope                  \n",
              "TELID   = '1m0a    '           / ID code of the Telescope                       \n",
              "TELESCOP= '1m0-05  '           / The Name of the Telescope                      \n",
              "LATITUDE=          -30.1673833 / [deg North] Telescope Latitude                 \n",
              "LONGITUD=          -70.8047889 / [deg East] Telescope Longitude                 \n",
              "HEIGHT  =                2201. / [m] Altitude of Telescope above sea level      \n",
              "OBSGEO-X=          1815190.451 / [m] Cartesian X co-ord of telescope (WGS84)    \n",
              "OBSGEO-Y=         -5213920.079 / [m] Cartesian Y co-ord of telescope (WGS84)    \n",
              "OBSGEO-Z=         -3187535.402 / [m] Cartesian Z co-ord of telescope (WGS84)    \n",
              "OBSTYPE = 'EXPOSE  '           / Observation type                               \n",
              "FRAMENUM=                  111 / Running frame number                           \n",
              "MOLTYPE = 'EXPOSE  '           / Molecule type                                  \n",
              "MOLNUM  =                    9 / Molecule number                                \n",
              "MOLFRNUM=                    1 / Exposure number within molecule                \n",
              "FRMTOTAL=                    1 / Total number of exposures within molecule      \n",
              "ORIGNAME= 'lsc1m005-kb69-20160621-0111-e00.fits' / Fname written by ICS         \n",
              "OBSTELEM= 'N/A     '           / Link to observation telemetry                  \n",
              "TIMESYS = 'UTC     '           / Time system used                               \n",
              "DATE    = '2016-06-22'         / [UTC] Date this FITS file was written          \n",
              "DATE-OBS= '2016-06-22T01:10:32.893' / [UTC] Start date and time of the observati\n",
              "DAY-OBS = '20160621'           / [UTC] Date at start of local observing night   \n",
              "UTSTART = '01:10:32.893'       / [UTC] The start time of the observation        \n",
              "UTSTOP  = '01:11:17.587'       / [UTC] The finish time of the observation       \n",
              "MJD-OBS =        57561.0489733 / [UTC days] Start date/time (Modified Julian Dat\n",
              "EXPTIME =               44.694 / [s] Exposure length                            \n",
              "FILTER1 = 'air     '           / The first filter wheel filter type             \n",
              "FILTERI1= 'Air     '           / The first filter wheel filter id               \n",
              "FILTER2 = 'air     '           / The second filter wheel filter type            \n",
              "FILTERI2= 'Air     '           / The second filter wheel filter id              \n",
              "FILTER3 = 'V       '           / The third filter wheel filter type             \n",
              "FILTERI3= 'JNSN-VX-177'        / The third filter wheel filter id               \n",
              "FILTER  = 'V       '           / Filter used                                    \n",
              "FWID    = 'fws1m0-04'          / Filter Wheel ID                                \n",
              "INSTRUME= 'kb69    '           / Instrument used                                \n",
              "INSSTATE= 'OKAY    '           / The instrument status                          \n",
              "ICSVER  = 'origin/master@0x05f8d08' / Version number of the ICS software        \n",
              "CONFMODE= 'N/A     '           / Camera mode configuration                      \n",
              "CONFNAME= 'N/A     '           / The instrument configuration used              \n",
              "DETECTOR= 'UNKNOWN '           / Detector type                                  \n",
              "DETECTID= 'ccdkb69-1'          / Detector serial number                         \n",
              "GAIN    =                  1.0 / [electrons/count] Pixel gain                   \n",
              "RDNOISE =                 13.5 / [electrons/pixel] Read noise                   \n",
              "DARKCURR=                   0. / [electrons/pixel/s @ 200K] Dark current        \n",
              "SATURATE=    64399.99999999999 / [ADU] Saturation level used                    \n",
              "MAXLIN  =                   0. / [ADU] Non-linearity level                      \n",
              "RDSPEED =                  60. / [kpix/s] Readout speed used                    \n",
              "DETSIZE = '[1:0,1:0]'          / [pixel] Detector size                          \n",
              "AMPNAME = 'default '           / Amplifier name                                 \n",
              "CCDSEC  = 'UNKNOWN '           / [pixel] Region of CCD read                     \n",
              "CCDSUM  = '2 2     '           / CCD on-chip summing/binning                    \n",
              "BIASSEC = 'UNKNOWN '           / [binned pixel] Section of bias/overscan data   \n",
              "DATASEC = '[1:2048,1:2048]'    / [binned pixel] Data section                    \n",
              "TRIMSEC = '[11:2038,11:2038]'  / [binned pixel] Section of useful data          \n",
              "ROI     = 'UNKNOWN '           / [binned pixel] Region of interest or MULTIPLE  \n",
              "DETSEC  = 'UNKNOWN '           / [binned pixel] Section of useful data          \n",
              "CCDXPIXE=              9.0E-06 / [m] Size of pixels, in X                       \n",
              "CCDYPIXE=              9.0E-06 / [m] Size of pixels, in Y                       \n",
              "PIXSCALE=                0.467 / [arcsec/pixel] Nominal pixel scale on sky      \n",
              "CCDSTEMP=          -20.0045808 / [deg C] CCD required temperature               \n",
              "CCDATEMP=          -20.0320677 / [deg C] CCD actual temperature                 \n",
              "CCDSESIG= 'N/A     '           / [mK] CCD temp control servo error signal       \n",
              "TELMODE = 'AUTOMATIC'          / Telescope mode                                 \n",
              "TAGID   = 'LCOEPO  '           / Time Allocation Group ID                       \n",
              "USERID  = 'richard_lane1'      / User ID                                        \n",
              "PROPID  = 'LCOEPO2014B-010'    / Proposal ID                                    \n",
              "GROUPID = 'Trial 2 '           / Group ID                                       \n",
              "OBSID   = 'UNSPECIFIED'        / Observation ID                                 \n",
              "OBSNOTE = 'UNSPECIFIED'        / Observation Note                               \n",
              "SCHEDNAM= 'POND    '           / Name of scheduler in control                   \n",
              "TRACKNUM= '0000176386'         / Request DB tracking number                     \n",
              "REQNUM  = '0000633941'         / Request DB request number                      \n",
              "MOLUID  = '212929239'          / Molecule unique ID                             \n",
              "BLKTYPE = 'POND    '           / Group type                                     \n",
              "BLKUID  = '85256734'           / Group unique ID                                \n",
              "BLKSDATE= '2016-06-22T01:09:06' / [UTC] Block start date                        \n",
              "BLKEDATE= '2016-06-22T01:14:32' / [UTC] Block end date                          \n",
              "BLKNOMEX=                 326. / [s] Block nominal exec time                    \n",
              "BLKMNPH = 'N/A     '           / [(0-1)] Maximum lunar phase required           \n",
              "BLKMNDST= 'N/A     '           / [deg] Minimum lunar distance required          \n",
              "BLKSEECO= 'N/A     '           / Minimum seeing required                        \n",
              "BLKTRNCO= 'N/A     '           / Minimum transparency required                  \n",
              "BLKAIRCO= '2.0     '           / Maximum airmass required                       \n",
              "SCHEDSEE= 'N/A     '           / [arcsec] Estimated seeing when group scheduled \n",
              "SCHEDTRN= 'N/A     '           / [(0-1)] Estimated transparency when group sched\n",
              "TRIGGER = 'N/A     '           / External trigger ID                            \n",
              "OBRECIPE= 'N/A     '           / Observing Recipes required/used                \n",
              "PCRECIPE= 'N/A     '           / Processing Recipes required/used               \n",
              "PPRECIPE= 'N/A     '           / Post-Processing Recipes required/used          \n",
              "RA      = '12:25:03.1875'      / [HH:MM:SS.sss] RA where telescope is pointing  \n",
              "DEC     = '+12:53:19.669'      / [sDD:MM:SS.ss] Dec where telescope is pointing \n",
              "RADESYS = 'ICRS    '           / [[FK5,ICRS]] Fundamental coord. system of the o\n",
              "LST     = '14:29:56.41'        / [HH:MM:SS.ss] LST at start of current observati\n",
              "CAT-RA  = '12:25:03.743'       / [HH:MM:SS.sss] Catalog RA of the object        \n",
              "CAT-DEC = '+12:53:13.14'       / [sDD:MM:SS.ss] Catalog Dec of the object       \n",
              "CAT-EPOC=                2000. / [Year] Catalog epoch of the coordinates        \n",
              "OFST-RA = '12:25:03.743'       / [HH:MM:SS.sss] Catalog RA plus pointing offsets\n",
              "OFST-DEC= '+12:53:13.14'       / [sDD:MM:SS.ss] Catalog Dec plus pointing offset\n",
              "TPT-RA  = '12:24:56.048'       / [HH:MM:SS.sss] Telescope demand RA             \n",
              "TPT-DEC = '+12:53:31.20'       / [sDD:MM:SS.ss] Telescope demand Dec            \n",
              "OBJECT  = 'M84     '           / Object name                                    \n",
              "SRCTYPE = 'EXTRASOLAR'         / Source type                                    \n",
              "PM-RA   =                   0. / [sec/year] Proper motion in RA of the object   \n",
              "PM-DEC  =                   0. / [arcsec/year] Proper motion in Dec of the objec\n",
              "PARALLAX=                   0. / [arcsec] Parallax of the object                \n",
              "RADVEL  =                   0. / [km/s] Radial velocity of the object           \n",
              "RATRACK =                   0. / [arcsec/s] Non-sidereal tracking in RA         \n",
              "DECTRACK=                   0. / [arcsec/s] Non-sidereal tracking in Dec        \n",
              "TELSTATE= 'OKAY    '           / Current telescope status                       \n",
              "ENGSTATE= 'UNKNOWN '           / Engineering override state                     \n",
              "TCSSTATE= 'OKAY    '           / TCS state                                      \n",
              "TCSVER  = '0.4.0-SNAPSHOT'     / Version number of the TCS software             \n",
              "TPNTMODL= '20160621223147'     / Version number of the pointing model           \n",
              "UT1-UTC =             -0.20538 / [s] UT1-UTC                                    \n",
              "POLARMOX=               0.1348 / [arcsec] Polar motion X                        \n",
              "POLARMOY=                0.494 / [arcsec] Polar motion Y                        \n",
              "EOPSRC  = 'IERS BULL. A 2016/06/16' / Source of the EOP Values                  \n",
              "ROLLERDR=                   0. / [rad] Driven roller encoder angle              \n",
              "ROLLERND=                   0. / [rad] Non-driven roller encoder angle          \n",
              "AZDMD   =           320.598758 / [deg] Azimuth axis demand                      \n",
              "AZIMUTH =          320.5987585 / [deg] Azimuth axis position                    \n",
              "AZSTAT  = 'OKAY    '           / Azimuth axis state                             \n",
              "ALTDMD  =           37.6833902 / [deg] Altitude axis demand                     \n",
              "ALTITUDE=            37.683389 / [deg] Altitude axis position                   \n",
              "ALTSTAT = 'OKAY    '           / Altitude axis state                            \n",
              "ROTTYPE = 'NONE    '           / Selected image derotator                       \n",
              "ROTMODE = 'FIXED   '           / Rotator mode                                   \n",
              "ROTDMD  = 'N/A     '           / [deg] Rotator axis demand                      \n",
              "ROTANGLE= 'N/A     '           / [deg] Rotator axis position                    \n",
              "ROTSKYPA=                   0. / [deg] Rotator position angle                   \n",
              "ROTSTAT = 'OFF     '           / Rotator axis state                             \n",
              "AIRMASS =             1.635546 / Effective mean airmass                         \n",
              "AMSTART =            1.6333389 / Airmass at start of observation                \n",
              "AMEND   =             1.637753 / Airmass at end of observation                  \n",
              "ENC1STAT= 'OPEN    '           / Enclosure shutter 1 state                      \n",
              "ENC2STAT= 'OPEN    '           / Enclosure shutter 2 state                      \n",
              "ENCAZ   =          322.0289611 / [deg] Enclosure azimuth                        \n",
              "ENCWLIGT= 'OFF     '           / Enclosure white lights state                   \n",
              "ENCRLIGT= 'ON      '           / Enclosure red lights state                     \n",
              "FOLDSTAT= 'N/A     '           / Fold mirror state                              \n",
              "FOLDPORT= '1       '           / Fold mirror port                               \n",
              "FOLDPOSN= 'N/A, N/A'           / [{mm,deg}] Fold mirror position (r, theta)     \n",
              "M1COVER = 'STOWED  '           / M1 mirror cover state                          \n",
              "M1HRTMN = 'STOWED  '           / M1 Hartmann screen state                       \n",
              "FOCDMD  =                   0. / [mm] Demanded focus position in focal plane    \n",
              "FOCPOSN =              -0.0092 / [mm] Actual focus position in focal plane      \n",
              "FOCTELZP=                 0.74 / [mm] Telescope default focus                   \n",
              "FOCINOFF=                   0. / [mm] Instrument focus offset                   \n",
              "FOCTOFF =               0.0355 / [mm] Thermal correction value                  \n",
              "FOCZOFF =            0.0583025 / [mm] Zenith compression correction             \n",
              "FOCAFOFF=           -1.1358444 / [mm] Autofocus offset in focal plane           \n",
              "FOCOBOFF=                   0. / [mm] Observer focus offset/defocus in focal pla\n",
              "FOCFLOFF=                  -1. / [mm] Filter focus offset in focal plane        \n",
              "FOCSTAT = 'HALTED  '           / Focus state                                    \n",
              "M2PITCH =                 405. / [arcsec] M2 tilt about vertex in pitch directio\n",
              "M2ROLL  =                -123. / [arcsec] M2 tilt about vertex in roll direction\n",
              "AUXROLL =                   0. / [arcsec] Auxiliary pointing corrections in roll\n",
              "AUXPITCH=                   0. / [arcsec] Auxiliary pointing corrections in pitc\n",
              "CTYPE1  = 'RA---TAN'           / Type of WCS Projection                         \n",
              "CTYPE2  = 'DEC--TAN'           / Type of WCS Projection                         \n",
              "CRPIX1  =               1014.5 / [pixel] Coordinate of reference point (axis 1) \n",
              "CRPIX2  =               1014.5 / [pixel] Coordinate of reference point (axis 2) \n",
              "CRVAL1  =        186.263281125 / [deg] RA at the reference pixel                \n",
              "CRVAL2  =        12.8887970758 / [deg] Dec at the reference pixel               \n",
              "CUNIT1  = 'deg     '           / Units of RA                                    \n",
              "CUNIT2  = 'deg     '           / Units of Dec                                   \n",
              "CD1_1   =    -0.00013056527147 / WCS CD transformation matrix                   \n",
              "CD1_2   =    3.51561557204E-08 / WCS CD transformation matrix                   \n",
              "CD2_1   =   -3.51561557204E-08 / WCS CD transformation matrix                   \n",
              "CD2_2   =    -0.00013056527147 / WCS CD transformation matrix                   \n",
              "WMSSTATE= 'OKAY    '           / WMS system state                               \n",
              "WMSHUMID=            9.3999996 / [%] Current percentage humidity                \n",
              "WMSTEMP =                 12.5 / [deg C] External temperature                   \n",
              "WMSPRES =          838.1979451 / [mbar] Atmospheric pressure                    \n",
              "WINDSPEE=           11.6280001 / [km/h] Windspeed                               \n",
              "WINDDIR =                  48. / [deg E of N] Wind direction                    \n",
              "WMSRAIN = 'CLEAR   '           / Rain alert                                     \n",
              "WMSMOIST=          256.2999878 / [mV] Moisture level                            \n",
              "WMSDEWPT=                 -19. / [deg C] Dewpoint                               \n",
              "WMSCLOUD=          -39.6926667 / [deg C] Boltwood sky temperature               \n",
              "WMSSKYBR=           19.4300003 / [mag/arcsec^2] Measured sky brightness         \n",
              "SKYMAG  =           18.6028139 / [mag/arcsec^2] Computed (expected) sky brightne\n",
              "TUBETEMP=           10.5978497 / [deg C] Temperature of the telescope tube      \n",
              "M1TEMP  = 'UNKNOWN '           / [deg C] Primary mirror temperature             \n",
              "FOCTEMP =           11.4499998 / [deg C] Focus temperature                      \n",
              "ISSTEMP = 'UNKNOWN '           / [deg C] ISS temperature                        \n",
              "REFPRES =          838.1979451 / [mbar] Pressure used in refraction calculation \n",
              "REFTEMP =                 12.5 / [deg C] Temperature used in refraction calculat\n",
              "REFHUMID=            9.3999996 / [%] Humidity used in refraction calculation    \n",
              "AGSTATE = 'ACQUIRING'          / Autoguider software state                      \n",
              "AGCAM   = 'ef06    '           / Camera used for autoguiding                    \n",
              "AGLCKFRC=                   0. / [%] Fraction of time AG locked                 \n",
              "AGMODE  = 'MAYBE   '           / Autoguider mode                                \n",
              "AGRA    = 'UNKNOWN '           / [deg] RA of guide star                         \n",
              "AGDEC   = 'UNKNOWN '           / [deg] Dec of guide star                        \n",
              "AGGMAG  = 'UNKNOWN '           / [mag] Autoguider guide star mag                \n",
              "AGFWHM  =              2.00178 / [arcsec] Autoguider FWHM                       \n",
              "AGMIRDMD= 'UNKNOWN '           / [mm] Autoguider mirror demand                  \n",
              "AGMIRPOS= 'N/A, N/A'           / Autoguider mirror position                     \n",
              "AGMIRST = 'N/A     '           / Autoguider mirror state                        \n",
              "AGFOCDMD=                  5.2 / [mm] Autoguider focus demand                   \n",
              "AGFOCUS =                5.164 / [mm] Autoguider focus position                 \n",
              "AGFOCOFF=                   0. / [mm] Autoguider relative focus offset          \n",
              "AGFOCST = 'In position'        / Autoguider focus state                         \n",
              "AGFILTER= 'clear,  '           / Autoguider filter                              \n",
              "AGFILTID= 'ADNP-P2-208,'       / Autoguider filter id                           \n",
              "AGFILST = 'Enabled '           / Autoguider filter state                        \n",
              "MOONSTAT= 'UP      '           / [{UP, DOWN}] Moon position at obs start        \n",
              "MOONFRAC=            0.9698215 / [(0 - 1)] Lunar Illuminated Fraction           \n",
              "MOONDIST=          107.9846209 / [deg] Lunar distance from target               \n",
              "MOONALT =           22.1040601 / [deg] Lunar altitude                           \n",
              "SUNDIST =           89.6585812 / [deg] Solar distance from target               \n",
              "SUNALT  =          -42.0015361 / [deg] Solar altitude                           \n",
              "REQTIME =                  45. / [seconds] Requested exposure time (+/- 0.010s) \n",
              "RWSTART = '01:10:31.493'       / [UTC] Raw start time of the observation        \n",
              "RWSTOP  = '01:11:17.597'       / [UTC] Raw stop time of the observation         \n",
              "OFSTART =                 1400 / [ms] Camera start latency adjustment           \n",
              "OFSTOP  =                  -10 / [ms] Camera stop latency adjustment            \n",
              "L1IDMASK= 'bpm_lsc_kb69_20160608_bin2x2.fits' / Id. of mask file used           \n",
              "SATFRAC = 6.19888305664062E-06 / Fraction of Pixels that are Saturated          \n",
              "L1STATOV=                    0 / Status flag for overscan correction            \n",
              "OVERSCAN=                  0.0 / Overscan value that was subtracted             \n",
              "L1STATTR=                    1 / Status flag for overscan trimming              \n",
              "BIASLVL =    1438.813020833333 / Mean bias level of master bias                 \n",
              "L1IDBIAS= 'bias_kb69_20160621_bin2x2.fits' / ID of bias frame used              \n",
              "L1STATBI=                    1 / Status flag for bias frame correction          \n",
              "L1IDDARK= 'dark_kb69_20160621_bin2x2.fits' / ID of dark frame used              \n",
              "L1STATDA=                    1 / Status flag for dark frame correction          \n",
              "L1IDFLAT= 'skyflat_kb69_20160610_bin2x2_V.fits' / ID of flat frame used         \n",
              "L1STATFL=                    1 / Status flag for flat field correction          \n",
              "L1MEAN  =    346.9634153770098 / [counts] Sigma clipped mean of frame background\n",
              "L1MEDIAN=       346.6494140625 / [counts] Median of frame background            \n",
              "L1SIGMA =     2.19444526977539 / [counts] Robust std dev of frame background    \n",
              "L1FWHM  =    1.759089490211493 / [arcsec] Frame FWHM in arcsec                  \n",
              "L1ELLIP =   0.1267382758564343 / Mean image ellipticity (1-B/A)                 \n",
              "L1ELLIPA=  -0.7617552203945402 / [deg] PA of mean image ellipticity             \n",
              "WCSERR  =                    0 / Error status of WCS fit. 0 for no error        \n",
              "RLEVEL  =                   91 / Reduction level                                \n",
              "PIPEVER = '0.7.9dev952'        / Pipeline version                               \n",
              "L1PUBDAT= '2016-06-22T01:10:32.893' / [UTC] Date the frame becomes public       \n",
              "PNTOFST =      10.421977794566 / [arcsec] offset of requested and solved center \n",
              "BSCALE  =                  1.0                                                  \n",
              "BZERO   =                  0.0                                                  \n",
              "HISTORY Image was compressed by CFITSIO using scaled integer quantization:      \n",
              "HISTORY   q = 64.000000 / quantized level scaling parameter                     \n",
              "HISTORY 'SUBTRACTIVE_DITHER_1' / Pixel Quantization Algorithm                   \n",
              "ZDITHER0=                 6977 / dithering offset when quantizing floats        \n",
              "CHECKSUM= '5UABAT5B5TABAT5B'   / HDU checksum updated 2016-06-27T19:49:29       \n",
              "DATASUM = '1711661079'         / data unit checksum updated 2016-06-27T19:49:29 \n",
              "EXTEND  =                    T                                                  "
            ]
          },
          "metadata": {
            "tags": []
          },
          "execution_count": 7
        }
      ]
    },
    {
      "metadata": {
        "id": "tRBXWUbSudS0",
        "colab_type": "text"
      },
      "cell_type": "markdown",
      "source": [
        "Debes identificar las llaves que contengan información acerca de: \n",
        "1. objeto astronómico que se observó.\n",
        "2. qué filtro se usó.\n",
        "3. la fecha de la observación.\n",
        "4. desde qué observatorio. \n",
        "\n",
        "Para completar los siguientes print,  primero debes crear una variable para cada uno de los datos que necesitamos y guardar la información directamente desde el header, habiendo ya identificado el `key` del diccionario donde vive cada información."
      ]
    },
    {
      "metadata": {
        "id": "sBuFNVMAwUxX",
        "colab_type": "code",
        "colab": {}
      },
      "cell_type": "code",
      "source": [
        "# Crea 4 variables para guardar la información del header requerida. Recuerda que no sirve leer a ojo el valor y escribirlo.\n",
        "# Debe ser asignado usando los beneficios de ser un array, de la forma genérica: header[\"key\"]\n",
        "objeto=header_data['OBJECT']\n",
        "filtro=header_data['FILTER']\n",
        "fecha=header_data['DATE-OBS']\n",
        "observatorio=header_data['SITE']\n",
        "\n"
      ],
      "execution_count": 0,
      "outputs": []
    },
    {
      "metadata": {
        "id": "Yu6FOiphu-Cm",
        "colab_type": "code",
        "outputId": "ec6aa46b-5542-46af-ba23-cefd897e6ec6",
        "colab": {
          "base_uri": "https://localhost:8080/",
          "height": 85
        }
      },
      "cell_type": "code",
      "source": [
        "print(\"Se observó el siguiente objeto astronómico:\", objeto)\n",
        "print(\"Se utilizó el filtro:\", filtro)\n",
        "print(\"La fecha es:\", fecha[0:10] , '[UTC]')\n",
        "print(\"Se observó desde el observatorio:\", observatorio)"
      ],
      "execution_count": 9,
      "outputs": [
        {
          "output_type": "stream",
          "text": [
            "Se observó el siguiente objeto astronómico: M84\n",
            "Se utilizó el filtro: V\n",
            "La fecha es: 2016-06-22 [UTC]\n",
            "Se observó desde el observatorio: LCOGT node at Cerro Tololo Inter-American Observatory\n"
          ],
          "name": "stdout"
        }
      ]
    },
    {
      "metadata": {
        "id": "_REZRjeTKs2L",
        "colab_type": "text"
      },
      "cell_type": "markdown",
      "source": [
        "Como dato de fecha ocupé el valor del tiempo universal coordinado (**UTC**) modificado, para quitar la parte de la hora."
      ]
    },
    {
      "metadata": {
        "id": "k_DZAkDawthV",
        "colab_type": "text"
      },
      "cell_type": "markdown",
      "source": [
        "##2. Mostrar la imagen con imshow\n",
        "\n",
        "La segunda parte de esta actividad consiste en mostrar la imagen con imshow y modificarla para que se vea más bonita. \n",
        "\n",
        "Primero, debes asignar en la variable `imagen` la compenente del header que contiene la matriz que forma la imagen astronómica. Recuerda que en este fits específico, el header y la imagen viven en `hdu[1]`."
      ]
    },
    {
      "metadata": {
        "id": "M36dX78oxNZo",
        "colab_type": "code",
        "colab": {}
      },
      "cell_type": "code",
      "source": [
        "imagen = "
      ],
      "execution_count": 0,
      "outputs": []
    },
    {
      "metadata": {
        "id": "OJbQ4ZRbxZfT",
        "colab_type": "text"
      },
      "cell_type": "markdown",
      "source": [
        "Vamos a importar un módulo de `matplotlib` que nos permitirá cambiar la escala de colores de la imagen, como por ejemplo, a una logaritmica. \n",
        "\n",
        "Ahora, debes completar el siguiente bloque de código para mostrar la imagen que viene en este fit."
      ]
    },
    {
      "metadata": {
        "id": "RlW0U_kYxhyq",
        "colab_type": "code",
        "colab": {}
      },
      "cell_type": "code",
      "source": [
        "from matplotlib.colors import LogNorm\n",
        "\n",
        "\n",
        "\n",
        "# El siguiente comando hará que no se vean las líneas sobre la imagen\n",
        "plt.grid(b=None)"
      ],
      "execution_count": 0,
      "outputs": []
    },
    {
      "metadata": {
        "id": "9G5E9e0JxiTl",
        "colab_type": "text"
      },
      "cell_type": "markdown",
      "source": [
        "Se supone que en esta imagen deberíamos ver una galaxia en el centro, sin embargo, casi no se ve nada. Esto ocurre cuando la escala de colores no es la correcta. Para utilizar una escala logarítmica por ejemplo, debes agregar el siguiente argumento a la función imshow(): `norm = LogNorm()`.\n",
        "\n",
        "Plotea nuevamente el gráfico, pero ahora con la escala logarítmica."
      ]
    },
    {
      "metadata": {
        "id": "B2zJySr8xzaN",
        "colab_type": "code",
        "colab": {}
      },
      "cell_type": "code",
      "source": [
        "# Plot acá"
      ],
      "execution_count": 0,
      "outputs": []
    },
    {
      "metadata": {
        "id": "fumufmKVy4I8",
        "colab_type": "text"
      },
      "cell_type": "markdown",
      "source": [
        "Ahora se observa una pequeña zona más brillante en el centro: es una galaxia! Sin embargo, nos gustaría verla más de cerca. Como la imagen es una matriz de valores, lo que debes hacer a continuación es un slicing de los datos para seleccionar un cuadrado.\n",
        "\n",
        "**HINT** El slicing en una matriz de hace de la forma `array[inicio_fila:fin_fila,inicio_columna:fin_columna]`. Si necesitan más ayuda, google es su mejor amigo :)\n",
        "\n",
        "Luego de tener el cuadrado que contiene la imagen, debes plotearla con escala logarítmica de colores."
      ]
    },
    {
      "metadata": {
        "id": "TXq3hi2pxz5y",
        "colab_type": "code",
        "colab": {}
      },
      "cell_type": "code",
      "source": [
        "# Slicing del cuadrado con la galaxia y plot acá\n"
      ],
      "execution_count": 0,
      "outputs": []
    },
    {
      "metadata": {
        "id": "0zFtYkK8vXnR",
        "colab_type": "text"
      },
      "cell_type": "markdown",
      "source": [
        "##Pandas y bases de datos"
      ]
    },
    {
      "metadata": {
        "id": "dQACI0vV2hCv",
        "colab_type": "text"
      },
      "cell_type": "markdown",
      "source": [
        "##3. Graficando exoplanetas con Pandas\n",
        "\n",
        "En la Clase 3 aprendimos que la librería `Pandas` es muy útil para trabajar con bases de datos. En esta sección, volveremos a trabajar con la base de datos de Exoplanetas, sacada de NASA Exoplanet Archive, la cual contiene más de 3900 exoplanetas confirmados con sus respectivos parámetros planetarios y estelares.\n",
        "\n",
        "Para conocer las columnas que contiene esta base de datos, pueden abrir el archivo en sus computadores y analizar las primeras líneas que empiezan con #, o también llamar al método `.columns` de un Data Frame.\n",
        "\n",
        "**HINT** Las columnas más importantes/útiles del archivo planets.csv con su respectiva descripción y unidades, son:\n",
        "- pl_hostname:    Host Name\n",
        "- pl_name:        Planet Name\n",
        "- pl_discmethod:  Discovery Method\n",
        "- pl_pnum:        Number of Planets in System\n",
        "- pl_orbper:      Orbital Period [days]\n",
        "- pl_orbsmax:     Orbit Semi-Major Axis [AU])\n",
        "- pl_orbeccen:    Eccentricity\n",
        "- pl_orbincl:     Inclination [deg]\n",
        "- pl_bmassj:      Planet Mass or M*sin(i) [Jupiter mass]\n",
        "- pl_radj:        Planet Radius [Jupiter radii]\n",
        "- ra_str:         RA [sexagesimal]\n",
        "- ra:             RA [decimal degrees]\n",
        "- dec_str:        Dec [sexagesimal]\n",
        "- dec:            Dec [decimal degrees]\n",
        "- st_dist:        Distance [pc]\n",
        "- pl_eqt:         Equilibrium Temperature [K]\n",
        "- pl_massj:       Planet Mass [Jupiter mass]\n",
        "- pl_masse:       Planet Mass [Earth mass]\n",
        "- pl_rade:        Planet Radius [Earth radii]\n",
        "- pl_disc:        Year of Discovery\n",
        "\n",
        "\n",
        "En esta sección se pide graficar ***de forma clara***, todos los exoplanetas en Masa vs Período, donde el color represente su método de detección. Sugerimos usar máscaras de array para separar los planetas según su método de detección en distintos Data Frame, para luego graficarlos. Recuerden agregar leyendas en el plot donde se explique que significan los colores.\n"
      ]
    },
    {
      "metadata": {
        "id": "jkv-ch1U2dWH",
        "colab_type": "code",
        "colab": {}
      },
      "cell_type": "code",
      "source": [
        "# Importamos Pandas y cargamos el archivo planets.csv\n",
        "import pandas as pd\n",
        "\n",
        "archivo = download_file('https://raw.githubusercontent.com/piacortes/astroclases/master/planets.csv?token=AXWBlnRlbOADXAfY-qtBxFJQ3SugzCucks5cpBbnwA%3D%3D')\n",
        "planetas = pd.read_csv(archivo, comment=\"#\")\n",
        "\n",
        "# Graficar plot\n"
      ],
      "execution_count": 0,
      "outputs": []
    },
    {
      "metadata": {
        "id": "vDQR0rXmrXvU",
        "colab_type": "text"
      },
      "cell_type": "markdown",
      "source": [
        "##4. ¿Cuántos exoplanetas se han descubierto por año?\n",
        "\n",
        "Realiza un histograma que muestre cuántos exoplanetas se han descubierto por año."
      ]
    },
    {
      "metadata": {
        "id": "SRI4I6V-rlou",
        "colab_type": "code",
        "colab": {}
      },
      "cell_type": "code",
      "source": [
        "# Hacer histograma"
      ],
      "execution_count": 0,
      "outputs": []
    },
    {
      "metadata": {
        "id": "QyEhJOLiqRfV",
        "colab_type": "text"
      },
      "cell_type": "markdown",
      "source": [
        "##5. Conocer los planetas más extremos descubiertos\n",
        "\n",
        "Les pedimos usar sus conocimientos pythonísticos, para printear la información (que ustedes consideren relevante) de los exoplanetas que cumplan con las siguientes características:\n",
        "- El más lejano a la Tierra.\n",
        "- El más cercano a la Tierra.\n",
        "- El más grande.\n",
        "- El más pequeño."
      ]
    },
    {
      "metadata": {
        "id": "8ciY6gIn4AwB",
        "colab_type": "code",
        "colab": {}
      },
      "cell_type": "code",
      "source": [
        "# Trabajen"
      ],
      "execution_count": 0,
      "outputs": []
    },
    {
      "metadata": {
        "id": "SYidKqd9qyqS",
        "colab_type": "text"
      },
      "cell_type": "markdown",
      "source": [
        "##6. Los 5 exoplanetas más parecidos a la Tierra\n",
        "\n",
        "Ahora, deben ponerse creativos para contarnos cuáles son los 5 exoplanetas descubiertos más parecidos a la Tierra, y sus características. \n",
        "\n",
        "**Importante:** Queda a su criterio (o descriterio) como definirán la similitud a la Tierra."
      ]
    },
    {
      "metadata": {
        "id": "QrBV5RT_7M4f",
        "colab_type": "code",
        "colab": {}
      },
      "cell_type": "code",
      "source": [
        "# Trabajen"
      ],
      "execution_count": 0,
      "outputs": []
    }
  ]
}